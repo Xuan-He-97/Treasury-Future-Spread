{
 "cells": [
  {
   "cell_type": "code",
   "execution_count": 1,
   "metadata": {},
   "outputs": [],
   "source": [
    "import pandas as pd\n",
    "import numpy as np\n",
    "import sys\n",
    "import matplotlib.pyplot as plt\n",
    "import math\n",
    "from sklearn.svm import SVR, LinearSVR, SVC, LinearSVC\n",
    "from sklearn.preprocessing import StandardScaler\n",
    "from sklearn.model_selection import KFold"
   ]
  },
  {
   "cell_type": "code",
   "execution_count": 2,
   "metadata": {},
   "outputs": [],
   "source": [
    "sys.path.insert(0, r'../src')\n",
    "from function_cache import *"
   ]
  },
  {
   "cell_type": "code",
   "execution_count": 5,
   "metadata": {},
   "outputs": [],
   "source": [
    "T_0min = pd.read_csv('../data/processed/price_before_close/T_0min.csv', index_col='Trading_Day', parse_dates=True)\n",
    "TF_0min = pd.read_csv('../data/processed/price_before_close/TF_0min.csv', index_col='Trading_Day', parse_dates=True)\n",
    "T_5min = pd.read_csv('../data/processed/price_before_close/T_5min.csv', index_col='Trading_Day', parse_dates=True)\n",
    "TF_5min = pd.read_csv('../data/processed/price_before_close/TF_5min.csv', index_col='Trading_Day', parse_dates=True)\n",
    "T_10min = pd.read_csv('../data/processed/price_before_close/T_10min.csv', index_col='Trading_Day', parse_dates=True)\n",
    "TF_10min = pd.read_csv('../data/processed/price_before_close/TF_10min.csv', index_col='Trading_Day', parse_dates=True)\n",
    "T_15min = pd.read_csv('../data/processed/price_before_close/T_15min.csv', index_col='Trading_Day', parse_dates=True)\n",
    "TF_15min = pd.read_csv('../data/processed/price_before_close/TF_15min.csv', index_col='Trading_Day', parse_dates=True)"
   ]
  },
  {
   "cell_type": "code",
   "execution_count": 6,
   "metadata": {},
   "outputs": [],
   "source": [
    "T_features = pd.read_csv('../data/processed/candidate_features/T_features.csv', index_col=0)\n",
    "TF_features = pd.read_csv('../data/processed/candidate_features/TF_features.csv', index_col=0)\n",
    "\n",
    "T_spread_change = pd.read_csv('../data/processed/different_ys/T_spread_change.csv', index_col=0)\n",
    "TF_spread_change = pd.read_csv('../data/processed/different_ys/TF_spread_change.csv', index_col=0)"
   ]
  },
  {
   "cell_type": "code",
   "execution_count": 7,
   "metadata": {},
   "outputs": [],
   "source": [
    "features = pd.concat([T_features, TF_features])\n",
    "spread_change = pd.concat([T_spread_change, TF_spread_change])"
   ]
  },
  {
   "cell_type": "code",
   "execution_count": 8,
   "metadata": {},
   "outputs": [],
   "source": [
    "spread_sign = np.sign(spread_change)\n",
    "\n",
    "X = features.values\n",
    "y = spread_sign['0min_0min'].values"
   ]
  },
  {
   "cell_type": "code",
   "execution_count": 9,
   "metadata": {},
   "outputs": [],
   "source": [
    "scaler = StandardScaler()\n",
    "X = scaler.fit_transform(X)"
   ]
  },
  {
   "cell_type": "code",
   "execution_count": 10,
   "metadata": {},
   "outputs": [],
   "source": [
    "def f_importances(coef, names):\n",
    "    imp = coef\n",
    "    imp, names = zip(*sorted(zip(imp,names)))\n",
    "    plt.barh(range(len(names)), imp, align='center')\n",
    "    plt.yticks(range(len(names)), names)\n",
    "    plt.show()"
   ]
  },
  {
   "cell_type": "code",
   "execution_count": 11,
   "metadata": {},
   "outputs": [],
   "source": [
    "plt.rcParams['figure.figsize'] = [25, 15]"
   ]
  },
  {
   "cell_type": "markdown",
   "metadata": {},
   "source": [
    "## Tuning C"
   ]
  },
  {
   "cell_type": "code",
   "execution_count": 12,
   "metadata": {},
   "outputs": [],
   "source": [
    "C_list = [0.0001, 0.0005, 0.001, 0.005, 0.01, 0.05,  0.1, 1, 10]"
   ]
  },
  {
   "cell_type": "code",
   "execution_count": 13,
   "metadata": {},
   "outputs": [
    {
     "name": "stdout",
     "output_type": "stream",
     "text": [
      "0.0001 :  0.6410256410256411\n",
      "0.0005 :  0.6410256410256411\n",
      "0.001 :  0.6410256410256411\n",
      "0.005 :  0.6410256410256411\n",
      "0.01 :  0.6410256410256411\n",
      "0.05 :  0.8974358974358975\n",
      "0.1 :  0.9230769230769231\n",
      "1 :  0.9487179487179487\n",
      "10 :  0.9743589743589743\n"
     ]
    }
   ],
   "source": [
    "for C in C_list:\n",
    "    svc = SVC(kernel='linear', C=C)\n",
    "    svc.fit(X, y)\n",
    "    print(C, ': ', svc.score(X, y))"
   ]
  },
  {
   "cell_type": "code",
   "execution_count": 83,
   "metadata": {},
   "outputs": [
    {
     "name": "stdout",
     "output_type": "stream",
     "text": [
      "0.0001 :  0.7435897435897436\n",
      "0.0005 :  0.7692307692307693\n",
      "0.001 :  0.7948717948717948\n",
      "0.005 :  0.8205128205128205\n",
      "0.01 :  0.8717948717948718\n",
      "0.05 :  0.9230769230769231\n",
      "0.1 :  0.9230769230769231\n",
      "1 :  0.9487179487179487\n",
      "10 :  1.0\n"
     ]
    }
   ],
   "source": [
    "for C in C_list:\n",
    "    svc = LinearSVC(C=C, max_iter=10000)\n",
    "    svc.fit(X, y)\n",
    "    print(C, ': ', svc.score(X, y))"
   ]
  },
  {
   "cell_type": "code",
   "execution_count": 20,
   "metadata": {},
   "outputs": [
    {
     "name": "stdout",
     "output_type": "stream",
     "text": [
      "[ 6 10 11 23 27 31 35]\n",
      "[ 2  3  9 12 18 20 34]\n",
      "[ 8 13 16 22 28 36 38]\n",
      "[ 0 14 17 21 26 33]\n",
      "[ 1  4  5 25 29 32]\n",
      "[ 7 15 19 24 30 37]\n"
     ]
    },
    {
     "data": {
      "text/plain": [
       "0.0001     0.638889\n",
       "0.0005     0.638889\n",
       "0.0010     0.638889\n",
       "0.0050     0.638889\n",
       "0.0100     0.638889\n",
       "0.0500     0.575397\n",
       "0.1000     0.575397\n",
       "1.0000     0.547619\n",
       "10.0000    0.599206\n",
       "dtype: float64"
      ]
     },
     "execution_count": 20,
     "metadata": {},
     "output_type": "execute_result"
    }
   ],
   "source": [
    "n = 6\n",
    "kf = KFold(n_splits=n, shuffle=True)\n",
    "score = pd.DataFrame(index=range(n), columns=C_list)\n",
    "i = 0\n",
    "\n",
    "for train_index, test_index in kf.split(X):\n",
    "    print(test_index)\n",
    "    X_train, X_test = X[train_index], X[test_index]\n",
    "    y_train, y_test = y[train_index], y[test_index]\n",
    "    \n",
    "    for C in C_list:\n",
    "        svc = SVC(kernel='linear', C=C)\n",
    "        svc.fit(X_train, y_train)\n",
    "        score.loc[i, C] = svc.score(X_test, y_test)\n",
    "    i = i + 1\n",
    "    \n",
    "score.mean()"
   ]
  },
  {
   "cell_type": "code",
   "execution_count": null,
   "metadata": {},
   "outputs": [],
   "source": [
    "prob "
   ]
  },
  {
   "cell_type": "markdown",
   "metadata": {},
   "source": [
    "# Classifier"
   ]
  },
  {
   "cell_type": "code",
   "execution_count": 21,
   "metadata": {},
   "outputs": [
    {
     "data": {
      "text/plain": [
       "0.9230769230769231"
      ]
     },
     "execution_count": 21,
     "metadata": {},
     "output_type": "execute_result"
    }
   ],
   "source": [
    "svc = SVC(C=0.1, kernel='linear')\n",
    "svc.fit(X, y)\n",
    "svc.score(X, y)"
   ]
  },
  {
   "cell_type": "code",
   "execution_count": 22,
   "metadata": {},
   "outputs": [
    {
     "data": {
      "text/plain": [
       "array([ 1.,  1.,  1.,  1.,  1.,  1.,  1., -1.,  1.,  1.,  1.,  1.,  1.,\n",
       "        1.,  1.,  1., -1., -1., -1., -1., -1., -1.,  1.,  1.,  1.,  1.,\n",
       "        1., -1.,  1.,  1., -1.,  1., -1.,  1., -1.,  1.,  1.,  1.,  1.])"
      ]
     },
     "execution_count": 22,
     "metadata": {},
     "output_type": "execute_result"
    }
   ],
   "source": [
    "y_pred = svc.predict(X)\n",
    "y_pred"
   ]
  },
  {
   "cell_type": "code",
   "execution_count": 23,
   "metadata": {},
   "outputs": [
    {
     "data": {
      "text/plain": [
       "5d_spread_change                 -0.191397\n",
       "10d_spread_change                -0.193403\n",
       "15d_spread_change                -0.116950\n",
       "20d_spread_change                 0.263023\n",
       "10d_act_price_exp_mva             0.251803\n",
       "-1d_corr_act_price_def_OI        -0.049136\n",
       "-1d_corr_def_price_def_OI        -0.044830\n",
       "10d_spread_std_divided_by_std     0.221672\n",
       "10d_current_price                 0.067954\n",
       "1d_z_diff_act_price_def_price    -0.361217\n",
       "-1d_corr_act_price_def_volume    -0.072702\n",
       "-1d_corr_def_price_def_volume    -0.057318\n",
       "10d_current_spread                0.018162\n",
       "-1d_std                           0.133617\n",
       "-1d_corr_act_price_def_price     -0.314402\n",
       "-1d_corr_act_OI_def_volume       -0.105928\n",
       "-1d_corr_act_OI_def_OI           -0.064778\n",
       "-1d_corr_def_volume_def_OI        0.071191\n",
       "-1d_corr_def_OI_spread            0.259034\n",
       "-1d_corr_def_volume_spread        0.181289\n",
       "1d_z_diff_act_price_def_OI        0.265145\n",
       "-1d_corr_act_volume_def_volume   -0.203929\n",
       "-1d_corr_act_volume_def_OI        0.148207\n",
       "-1d_corr_act_price_act_OI         0.231922\n",
       "1d_z_diff_act_volume_act_OI       0.046573\n",
       "10d_def_volume_exp_mva            0.265125\n",
       "-1d_corr_act_OI_spread            0.109057\n",
       "-1d_corr_def_price_spread        -0.171421\n",
       "dtype: float64"
      ]
     },
     "execution_count": 23,
     "metadata": {},
     "output_type": "execute_result"
    }
   ],
   "source": [
    "coef_sr = pd.Series(svc.coef_[0], index=features.columns)\n",
    "coef_sr"
   ]
  },
  {
   "cell_type": "code",
   "execution_count": 24,
   "metadata": {},
   "outputs": [
    {
     "data": {
      "image/png": "[encoded data removed]",
      "text/plain": [
       "<Figure size 1800x1080 with 1 Axes>"
      ]
     },
     "metadata": {
      "needs_background": "light"
     },
     "output_type": "display_data"
    }
   ],
   "source": [
    "f_importances(svc.coef_[0], features.columns)"
   ]
  },
  {
   "cell_type": "code",
   "execution_count": 25,
   "metadata": {},
   "outputs": [],
   "source": [
    "y_pos_sr = pd.Series(spread_change.index, index=y)\n",
    "y_pos_idx = y_pos_sr.loc[1].values\n",
    "y_neg_idx = y_pos_sr.loc[-1].values"
   ]
  },
  {
   "cell_type": "code",
   "execution_count": 26,
   "metadata": {},
   "outputs": [
    {
     "data": {
      "text/plain": [
       "<matplotlib.collections.PathCollection at 0x19935281518>"
      ]
     },
     "execution_count": 26,
     "metadata": {},
     "output_type": "execute_result"
    },
    {
     "data": {
      "image/png": "[encoded data removed]",
      "text/plain": [
       "<Figure size 1800x1080 with 1 Axes>"
      ]
     },
     "metadata": {
      "needs_background": "light"
     },
     "output_type": "display_data"
    }
   ],
   "source": [
    "fig = plt.figure()\n",
    "ax = fig.add_subplot(111)\n",
    "ax.scatter(features.loc[y_pos_idx, '-1d_corr_def_OI_spread'].values, \n",
    "           features.loc[y_pos_idx, '20d_spread_change'].values, c='r')\n",
    "ax.scatter(features.loc[y_neg_idx, '-1d_corr_def_OI_spread'].values, \n",
    "           features.loc[y_neg_idx, '20d_spread_change'].values, c='b')"
   ]
  },
  {
   "cell_type": "code",
   "execution_count": 62,
   "metadata": {},
   "outputs": [],
   "source": [
    "from sklearn.feature_selection import SelectFromModel\n",
    "from sklearn.ensemble import ExtraTreesClassifier, RandomForestClassifier"
   ]
  },
  {
   "cell_type": "code",
   "execution_count": 29,
   "metadata": {},
   "outputs": [],
   "source": [
    "model = SelectFromModel(svc, prefit=True)\n",
    "X_new = model.transform(X)"
   ]
  },
  {
   "cell_type": "code",
   "execution_count": 30,
   "metadata": {},
   "outputs": [
    {
     "data": {
      "text/plain": [
       "(39, 14)"
      ]
     },
     "execution_count": 30,
     "metadata": {},
     "output_type": "execute_result"
    }
   ],
   "source": [
    "X_new.shape"
   ]
  },
  {
   "cell_type": "code",
   "execution_count": 100,
   "metadata": {},
   "outputs": [],
   "source": [
    "def featImpMDI(fit, featNames):\n",
    "    # feature importance based on IS mean impurity reduction\n",
    "    df0 = {i:tree.feature_importances_ for i, tree in enumerate(fit.estimators_)}\n",
    "    df0 = pd.DataFrame.from_dict(df0, orient='index')\n",
    "    df0.columns = featNames\n",
    "    df0 = df0.replace(0, np.nan)\n",
    "    imp = pd.concat({'mean': df0.mean(), 'std': df0.std()*df0.shape[0]**-.5}, axis=1)\n",
    "    imp /= imp['mean'].sum()\n",
    "    return imp"
   ]
  },
  {
   "cell_type": "code",
   "execution_count": 117,
   "metadata": {},
   "outputs": [
    {
     "data": {
      "text/plain": [
       "array([0.03419308, 0.03156259, 0.03044212, 0.03974052, 0.03834592,\n",
       "       0.03315956, 0.03520995, 0.03565025, 0.031614  , 0.04266483,\n",
       "       0.03509654, 0.03311106, 0.03542545, 0.03096674, 0.03166316,\n",
       "       0.03436483, 0.0352925 , 0.03288663, 0.04702706, 0.04439605,\n",
       "       0.03670628, 0.03335198, 0.0314368 , 0.03623282, 0.03721112,\n",
       "       0.04267737, 0.03434748, 0.0352233 ])"
      ]
     },
     "execution_count": 117,
     "metadata": {},
     "output_type": "execute_result"
    }
   ],
   "source": [
    "clf = RandomForestClassifier(n_estimators=2000, max_features=1)\n",
    "clf = clf.fit(X, y)\n",
    "clf.feature_importances_  "
   ]
  },
  {
   "cell_type": "code",
   "execution_count": 118,
   "metadata": {},
   "outputs": [],
   "source": [
    "featImp = featImpMDI(clf, features.columns).sort_values(by='mean')"
   ]
  },
  {
   "cell_type": "code",
   "execution_count": 119,
   "metadata": {},
   "outputs": [],
   "source": [
    "featImp['ratio'] = featImp['mean'] / featImp['std']"
   ]
  },
  {
   "cell_type": "code",
   "execution_count": 120,
   "metadata": {},
   "outputs": [
    {
     "data": {
      "text/html": [
       "<div>\n",
       "<style scoped>\n",
       "    .dataframe tbody tr th:only-of-type {\n",
       "        vertical-align: middle;\n",
       "    }\n",
       "\n",
       "    .dataframe tbody tr th {\n",
       "        vertical-align: top;\n",
       "    }\n",
       "\n",
       "    .dataframe thead th {\n",
       "        text-align: right;\n",
       "    }\n",
       "</style>\n",
       "<table border=\"1\" class=\"dataframe\">\n",
       "  <thead>\n",
       "    <tr style=\"text-align: right;\">\n",
       "      <th></th>\n",
       "      <th>mean</th>\n",
       "      <th>std</th>\n",
       "      <th>ratio</th>\n",
       "    </tr>\n",
       "  </thead>\n",
       "  <tbody>\n",
       "    <tr>\n",
       "      <th>-1d_std</th>\n",
       "      <td>0.030099</td>\n",
       "      <td>0.000501</td>\n",
       "      <td>60.106391</td>\n",
       "    </tr>\n",
       "    <tr>\n",
       "      <th>10d_spread_change</th>\n",
       "      <td>0.031137</td>\n",
       "      <td>0.000488</td>\n",
       "      <td>63.745192</td>\n",
       "    </tr>\n",
       "    <tr>\n",
       "      <th>15d_spread_change</th>\n",
       "      <td>0.031607</td>\n",
       "      <td>0.000488</td>\n",
       "      <td>64.717839</td>\n",
       "    </tr>\n",
       "    <tr>\n",
       "      <th>-1d_corr_act_price_def_price</th>\n",
       "      <td>0.031710</td>\n",
       "      <td>0.000481</td>\n",
       "      <td>65.948617</td>\n",
       "    </tr>\n",
       "    <tr>\n",
       "      <th>-1d_corr_act_volume_def_volume</th>\n",
       "      <td>0.031793</td>\n",
       "      <td>0.000494</td>\n",
       "      <td>64.391367</td>\n",
       "    </tr>\n",
       "    <tr>\n",
       "      <th>-1d_corr_def_price_def_volume</th>\n",
       "      <td>0.032236</td>\n",
       "      <td>0.000531</td>\n",
       "      <td>60.672161</td>\n",
       "    </tr>\n",
       "    <tr>\n",
       "      <th>-1d_corr_def_volume_def_OI</th>\n",
       "      <td>0.032606</td>\n",
       "      <td>0.000545</td>\n",
       "      <td>59.867079</td>\n",
       "    </tr>\n",
       "    <tr>\n",
       "      <th>-1d_corr_act_price_def_OI</th>\n",
       "      <td>0.033837</td>\n",
       "      <td>0.000512</td>\n",
       "      <td>66.084645</td>\n",
       "    </tr>\n",
       "    <tr>\n",
       "      <th>-1d_corr_def_price_def_OI</th>\n",
       "      <td>0.033891</td>\n",
       "      <td>0.000505</td>\n",
       "      <td>67.112660</td>\n",
       "    </tr>\n",
       "    <tr>\n",
       "      <th>-1d_corr_act_volume_def_OI</th>\n",
       "      <td>0.033945</td>\n",
       "      <td>0.000572</td>\n",
       "      <td>59.321746</td>\n",
       "    </tr>\n",
       "    <tr>\n",
       "      <th>-1d_corr_act_OI_spread</th>\n",
       "      <td>0.034168</td>\n",
       "      <td>0.000570</td>\n",
       "      <td>59.943451</td>\n",
       "    </tr>\n",
       "    <tr>\n",
       "      <th>-1d_corr_act_price_def_volume</th>\n",
       "      <td>0.034169</td>\n",
       "      <td>0.000531</td>\n",
       "      <td>64.386859</td>\n",
       "    </tr>\n",
       "    <tr>\n",
       "      <th>10d_current_price</th>\n",
       "      <td>0.034324</td>\n",
       "      <td>0.000547</td>\n",
       "      <td>62.795965</td>\n",
       "    </tr>\n",
       "    <tr>\n",
       "      <th>10d_spread_std_divided_by_std</th>\n",
       "      <td>0.034822</td>\n",
       "      <td>0.000559</td>\n",
       "      <td>62.266354</td>\n",
       "    </tr>\n",
       "    <tr>\n",
       "      <th>10d_current_spread</th>\n",
       "      <td>0.034890</td>\n",
       "      <td>0.000554</td>\n",
       "      <td>62.931699</td>\n",
       "    </tr>\n",
       "    <tr>\n",
       "      <th>-1d_corr_act_OI_def_OI</th>\n",
       "      <td>0.035226</td>\n",
       "      <td>0.000585</td>\n",
       "      <td>60.184759</td>\n",
       "    </tr>\n",
       "    <tr>\n",
       "      <th>1d_z_diff_act_volume_act_OI</th>\n",
       "      <td>0.035246</td>\n",
       "      <td>0.000546</td>\n",
       "      <td>64.559647</td>\n",
       "    </tr>\n",
       "    <tr>\n",
       "      <th>-1d_corr_act_OI_def_volume</th>\n",
       "      <td>0.035493</td>\n",
       "      <td>0.000585</td>\n",
       "      <td>60.698408</td>\n",
       "    </tr>\n",
       "    <tr>\n",
       "      <th>-1d_corr_def_price_spread</th>\n",
       "      <td>0.035636</td>\n",
       "      <td>0.000562</td>\n",
       "      <td>63.416767</td>\n",
       "    </tr>\n",
       "    <tr>\n",
       "      <th>5d_spread_change</th>\n",
       "      <td>0.036005</td>\n",
       "      <td>0.000578</td>\n",
       "      <td>62.341901</td>\n",
       "    </tr>\n",
       "    <tr>\n",
       "      <th>-1d_corr_act_price_act_OI</th>\n",
       "      <td>0.037488</td>\n",
       "      <td>0.000624</td>\n",
       "      <td>60.055854</td>\n",
       "    </tr>\n",
       "    <tr>\n",
       "      <th>1d_z_diff_act_price_def_OI</th>\n",
       "      <td>0.038720</td>\n",
       "      <td>0.000651</td>\n",
       "      <td>59.479937</td>\n",
       "    </tr>\n",
       "    <tr>\n",
       "      <th>20d_spread_change</th>\n",
       "      <td>0.039533</td>\n",
       "      <td>0.000686</td>\n",
       "      <td>57.622438</td>\n",
       "    </tr>\n",
       "    <tr>\n",
       "      <th>10d_act_price_exp_mva</th>\n",
       "      <td>0.039813</td>\n",
       "      <td>0.000687</td>\n",
       "      <td>57.974897</td>\n",
       "    </tr>\n",
       "    <tr>\n",
       "      <th>1d_z_diff_act_price_def_price</th>\n",
       "      <td>0.041334</td>\n",
       "      <td>0.000696</td>\n",
       "      <td>59.420105</td>\n",
       "    </tr>\n",
       "    <tr>\n",
       "      <th>-1d_corr_def_volume_spread</th>\n",
       "      <td>0.042253</td>\n",
       "      <td>0.000760</td>\n",
       "      <td>55.622063</td>\n",
       "    </tr>\n",
       "    <tr>\n",
       "      <th>10d_def_volume_exp_mva</th>\n",
       "      <td>0.043549</td>\n",
       "      <td>0.000773</td>\n",
       "      <td>56.367764</td>\n",
       "    </tr>\n",
       "    <tr>\n",
       "      <th>-1d_corr_def_OI_spread</th>\n",
       "      <td>0.044472</td>\n",
       "      <td>0.000803</td>\n",
       "      <td>55.371709</td>\n",
       "    </tr>\n",
       "  </tbody>\n",
       "</table>\n",
       "</div>"
      ],
      "text/plain": [
       "                                    mean       std      ratio\n",
       "-1d_std                         0.030099  0.000501  60.106391\n",
       "10d_spread_change               0.031137  0.000488  63.745192\n",
       "15d_spread_change               0.031607  0.000488  64.717839\n",
       "-1d_corr_act_price_def_price    0.031710  0.000481  65.948617\n",
       "-1d_corr_act_volume_def_volume  0.031793  0.000494  64.391367\n",
       "-1d_corr_def_price_def_volume   0.032236  0.000531  60.672161\n",
       "-1d_corr_def_volume_def_OI      0.032606  0.000545  59.867079\n",
       "-1d_corr_act_price_def_OI       0.033837  0.000512  66.084645\n",
       "-1d_corr_def_price_def_OI       0.033891  0.000505  67.112660\n",
       "-1d_corr_act_volume_def_OI      0.033945  0.000572  59.321746\n",
       "-1d_corr_act_OI_spread          0.034168  0.000570  59.943451\n",
       "-1d_corr_act_price_def_volume   0.034169  0.000531  64.386859\n",
       "10d_current_price               0.034324  0.000547  62.795965\n",
       "10d_spread_std_divided_by_std   0.034822  0.000559  62.266354\n",
       "10d_current_spread              0.034890  0.000554  62.931699\n",
       "-1d_corr_act_OI_def_OI          0.035226  0.000585  60.184759\n",
       "1d_z_diff_act_volume_act_OI     0.035246  0.000546  64.559647\n",
       "-1d_corr_act_OI_def_volume      0.035493  0.000585  60.698408\n",
       "-1d_corr_def_price_spread       0.035636  0.000562  63.416767\n",
       "5d_spread_change                0.036005  0.000578  62.341901\n",
       "-1d_corr_act_price_act_OI       0.037488  0.000624  60.055854\n",
       "1d_z_diff_act_price_def_OI      0.038720  0.000651  59.479937\n",
       "20d_spread_change               0.039533  0.000686  57.622438\n",
       "10d_act_price_exp_mva           0.039813  0.000687  57.974897\n",
       "1d_z_diff_act_price_def_price   0.041334  0.000696  59.420105\n",
       "-1d_corr_def_volume_spread      0.042253  0.000760  55.622063\n",
       "10d_def_volume_exp_mva          0.043549  0.000773  56.367764\n",
       "-1d_corr_def_OI_spread          0.044472  0.000803  55.371709"
      ]
     },
     "execution_count": 120,
     "metadata": {},
     "output_type": "execute_result"
    }
   ],
   "source": [
    "featImp"
   ]
  },
  {
   "cell_type": "code",
   "execution_count": 121,
   "metadata": {},
   "outputs": [
    {
     "data": {
      "text/plain": [
       "15d_spread_change                 0.030442\n",
       "-1d_std                           0.030967\n",
       "-1d_corr_act_volume_def_OI        0.031437\n",
       "10d_spread_change                 0.031563\n",
       "10d_current_price                 0.031614\n",
       "-1d_corr_act_price_def_price      0.031663\n",
       "-1d_corr_def_volume_def_OI        0.032887\n",
       "-1d_corr_def_price_def_volume     0.033111\n",
       "-1d_corr_act_price_def_OI         0.033160\n",
       "-1d_corr_act_volume_def_volume    0.033352\n",
       "5d_spread_change                  0.034193\n",
       "-1d_corr_act_OI_spread            0.034347\n",
       "-1d_corr_act_OI_def_volume        0.034365\n",
       "-1d_corr_act_price_def_volume     0.035097\n",
       "-1d_corr_def_price_def_OI         0.035210\n",
       "-1d_corr_def_price_spread         0.035223\n",
       "-1d_corr_act_OI_def_OI            0.035292\n",
       "10d_current_spread                0.035425\n",
       "10d_spread_std_divided_by_std     0.035650\n",
       "-1d_corr_act_price_act_OI         0.036233\n",
       "1d_z_diff_act_price_def_OI        0.036706\n",
       "1d_z_diff_act_volume_act_OI       0.037211\n",
       "10d_act_price_exp_mva             0.038346\n",
       "20d_spread_change                 0.039741\n",
       "1d_z_diff_act_price_def_price     0.042665\n",
       "10d_def_volume_exp_mva            0.042677\n",
       "-1d_corr_def_volume_spread        0.044396\n",
       "-1d_corr_def_OI_spread            0.047027\n",
       "dtype: float64"
      ]
     },
     "execution_count": 121,
     "metadata": {},
     "output_type": "execute_result"
    }
   ],
   "source": [
    "feature_importances = pd.Series(clf.feature_importances_, index=features.columns)\n",
    "feature_importances.sort_values()"
   ]
  },
  {
   "cell_type": "markdown",
   "metadata": {},
   "source": [
    "# Classifier for Selected Features"
   ]
  },
  {
   "cell_type": "code",
   "execution_count": 33,
   "metadata": {},
   "outputs": [
    {
     "data": {
      "text/plain": [
       "array([-0.08666677,  0.56032669,  1.45277825,  1.34515282, -1.82031248,\n",
       "        0.60461549,  0.89412483, -1.37216262, -1.05841497, -0.49736782,\n",
       "        1.2799259 ,  0.53026383,  0.81726098, -0.01240458,  1.36936867,\n",
       "        1.0886591 , -1.69122748,  0.31382675,  0.83126198, -0.82455982,\n",
       "       -1.07206599, -1.17309349,  0.27619334, -0.99875047,  0.3495793 ,\n",
       "        0.36875136,  1.37144444, -1.09892068,  0.09647125,  1.42284523,\n",
       "       -1.68693269, -1.54572963, -0.82188556,  0.83107228,  0.80250306,\n",
       "       -0.81735164, -0.1564849 ,  0.31536027, -0.18745422])"
      ]
     },
     "execution_count": 33,
     "metadata": {},
     "output_type": "execute_result"
    }
   ],
   "source": [
    "X[:, 18]"
   ]
  },
  {
   "cell_type": "code",
   "execution_count": 60,
   "metadata": {},
   "outputs": [
    {
     "name": "stdout",
     "output_type": "stream",
     "text": [
      "[12 17 19 29 33]\n",
      "[ 5  6 13 14 34]\n",
      "[ 1  7 11 20 22]\n",
      "[10 21 23 36 37]\n",
      "[ 8  9 16 25 38]\n",
      "[ 0  2 26 28 35]\n",
      "[ 3 24 27 31 32]\n",
      "[ 4 15 18 30]\n"
     ]
    },
    {
     "data": {
      "text/plain": [
       "0.0001     0.6375\n",
       "0.0005     0.6375\n",
       "0.0010     0.6375\n",
       "0.0050     0.6375\n",
       "0.0100     0.6375\n",
       "0.0500     0.6375\n",
       "0.1000     0.6125\n",
       "1.0000     0.6625\n",
       "10.0000    0.6625\n",
       "dtype: float64"
      ]
     },
     "execution_count": 60,
     "metadata": {},
     "output_type": "execute_result"
    }
   ],
   "source": [
    "n = 8\n",
    "kf = KFold(n_splits=n, shuffle=True)\n",
    "score = pd.DataFrame(index=range(n), columns=C_list)\n",
    "i = 0\n",
    "\n",
    "for train_index, test_index in kf.split(X[:, 18].reshape(-1, 1)):\n",
    "    print(test_index)\n",
    "    X_train, X_test = X[:, 18].reshape(-1, 1)[train_index], X[:, 18].reshape(-1, 1)[test_index]\n",
    "    y_train, y_test = y[train_index], y[test_index]\n",
    "    \n",
    "    for C in C_list:\n",
    "        svc = SVC(kernel='linear', C=C)\n",
    "        svc.fit(X_train, y_train)\n",
    "        score.loc[i, C] = svc.score(X_test, y_test)\n",
    "    i = i + 1\n",
    "    \n",
    "score.mean()"
   ]
  },
  {
   "cell_type": "code",
   "execution_count": 61,
   "metadata": {},
   "outputs": [
    {
     "data": {
      "text/plain": [
       "0.717948717948718"
      ]
     },
     "execution_count": 61,
     "metadata": {},
     "output_type": "execute_result"
    }
   ],
   "source": [
    "svc = SVC(kernel='linear')\n",
    "svc.fit(X[:, 18].reshape(-1, 1), y)\n",
    "svc.score(X[:, 18].reshape(-1, 1), y)"
   ]
  },
  {
   "cell_type": "code",
   "execution_count": 61,
   "metadata": {},
   "outputs": [
    {
     "data": {
      "text/plain": [
       "array([ 1.,  1.,  1.,  1.,  1.,  1.,  1., -1.,  1., -1.,  1.,  1.,  1.,\n",
       "        1.,  1.,  1., -1., -1., -1., -1., -1., -1., -1.,  1.,  1.,  1.,\n",
       "        1., -1.,  1.,  1., -1.,  1., -1.,  1., -1.,  1.,  1., -1.,  1.])"
      ]
     },
     "execution_count": 61,
     "metadata": {},
     "output_type": "execute_result"
    }
   ],
   "source": [
    "y"
   ]
  },
  {
   "cell_type": "code",
   "execution_count": 60,
   "metadata": {},
   "outputs": [
    {
     "data": {
      "text/plain": [
       "array([ 1.,  1.,  1.,  1., -1.,  1.,  1., -1., -1.,  1.,  1.,  1.,  1.,\n",
       "        1.,  1.,  1., -1.,  1.,  1., -1., -1., -1.,  1., -1.,  1.,  1.,\n",
       "        1., -1.,  1.,  1., -1., -1., -1.,  1.,  1., -1.,  1.,  1.,  1.])"
      ]
     },
     "execution_count": 60,
     "metadata": {},
     "output_type": "execute_result"
    }
   ],
   "source": [
    "y_pred = svc.predict(X[:, 18].reshape(-1, 1))\n",
    "y_pred"
   ]
  },
  {
   "cell_type": "code",
   "execution_count": 63,
   "metadata": {},
   "outputs": [
    {
     "data": {
      "text/plain": [
       "0.717948717948718"
      ]
     },
     "execution_count": 63,
     "metadata": {},
     "output_type": "execute_result"
    }
   ],
   "source": [
    "(y == y_pred).mean()"
   ]
  },
  {
   "cell_type": "code",
   "execution_count": 66,
   "metadata": {},
   "outputs": [
    {
     "data": {
      "text/plain": [
       "0.6410256410256411"
      ]
     },
     "execution_count": 66,
     "metadata": {},
     "output_type": "execute_result"
    }
   ],
   "source": [
    "(y == 1).mean()"
   ]
  },
  {
   "cell_type": "code",
   "execution_count": null,
   "metadata": {},
   "outputs": [],
   "source": []
  }
 ],
 "metadata": {
  "kernelspec": {
   "display_name": "Python 3",
   "language": "python",
   "name": "python3"
  },
  "language_info": {
   "codemirror_mode": {
    "name": "ipython",
    "version": 3
   },
   "file_extension": ".py",
   "mimetype": "text/x-python",
   "name": "python",
   "nbconvert_exporter": "python",
   "pygments_lexer": "ipython3",
   "version": "3.6.8"
  }
 },
 "nbformat": 4,
 "nbformat_minor": 2
}
