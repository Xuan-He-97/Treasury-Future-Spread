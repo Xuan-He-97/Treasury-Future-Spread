{
 "cells": [
  {
   "cell_type": "code",
   "execution_count": 1,
   "metadata": {},
   "outputs": [],
   "source": [
    "import pandas as pd\n",
    "import numpy as np\n",
    "import sys\n",
    "import matplotlib.pyplot as plt\n",
    "import math\n",
    "from sklearn.svm import SVR, LinearSVR, SVC, LinearSVC\n",
    "from sklearn.preprocessing import StandardScaler\n",
    "from sklearn.model_selection import KFold\n",
    "from sklearn.linear_model import Lasso\n",
    "from sklearn.feature_selection import SelectFromModel\n",
    "from sklearn.ensemble import ExtraTreesClassifier, RandomForestClassifier"
   ]
  },
  {
   "cell_type": "code",
   "execution_count": 2,
   "metadata": {},
   "outputs": [],
   "source": [
    "sys.path.insert(0, r'../../src')\n",
    "from function_cache import *"
   ]
  },
  {
   "cell_type": "code",
   "execution_count": 3,
   "metadata": {},
   "outputs": [],
   "source": [
    "T_0min = pd.read_csv('../../data/processed/price_before_close/T_0min.csv', index_col='Trading_Day', parse_dates=True)\n",
    "TF_0min = pd.read_csv('../../data/processed/price_before_close/TF_0min.csv', index_col='Trading_Day', parse_dates=True)\n",
    "T_5min = pd.read_csv('../../data/processed/price_before_close/T_5min.csv', index_col='Trading_Day', parse_dates=True)\n",
    "TF_5min = pd.read_csv('../../data/processed/price_before_close/TF_5min.csv', index_col='Trading_Day', parse_dates=True)\n",
    "T_10min = pd.read_csv('../../data/processed/price_before_close/T_10min.csv', index_col='Trading_Day', parse_dates=True)\n",
    "TF_10min = pd.read_csv('../../data/processed/price_before_close/TF_10min.csv', index_col='Trading_Day', parse_dates=True)\n",
    "T_15min = pd.read_csv('../../data/processed/price_before_close/T_15min.csv', index_col='Trading_Day', parse_dates=True)\n",
    "TF_15min = pd.read_csv('../../data/processed/price_before_close/TF_15min.csv', index_col='Trading_Day', parse_dates=True)"
   ]
  },
  {
   "cell_type": "code",
   "execution_count": 4,
   "metadata": {},
   "outputs": [],
   "source": [
    "T_features = pd.read_csv('../../data/processed/candidate_features/T_features.csv', index_col=0)\n",
    "TF_features = pd.read_csv('../../data/processed/candidate_features/TF_features.csv', index_col=0)\n",
    "T_spread_change = pd.read_csv('../../data/processed/different_ys/T_spread_change.csv', index_col=0)\n",
    "TF_spread_change = pd.read_csv('../../data/processed/different_ys/TF_spread_change.csv', index_col=0)"
   ]
  },
  {
   "cell_type": "code",
   "execution_count": 7,
   "metadata": {},
   "outputs": [],
   "source": [
    "def featImpMDI(fit, featNames):\n",
    "    # feature importance based on IS mean impurity reduction\n",
    "    df0 = {i:tree.feature_importances_ for i, tree in enumerate(fit.estimators_)}\n",
    "    df0 = pd.DataFrame.from_dict(df0, orient='index')\n",
    "    df0.columns = featNames\n",
    "    df0 = df0.replace(0, np.nan)\n",
    "    imp = pd.concat({'mean': df0.mean(), 'std': df0.std()*df0.shape[0]**-.5}, axis=1)\n",
    "    imp /= imp['mean'].sum()\n",
    "    return imp"
   ]
  },
  {
   "cell_type": "code",
   "execution_count": 5,
   "metadata": {},
   "outputs": [],
   "source": [
    "features = pd.concat([T_features, TF_features])\n",
    "spread_change = pd.concat([T_spread_change, TF_spread_change])"
   ]
  },
  {
   "cell_type": "code",
   "execution_count": 6,
   "metadata": {},
   "outputs": [],
   "source": [
    "spread_sign = np.sign(spread_change)\n",
    "\n",
    "X = features.values\n",
    "y = spread_sign['0min_0min'].values\n",
    "\n",
    "scaler = StandardScaler()\n",
    "X = scaler.fit_transform(X)"
   ]
  },
  {
   "cell_type": "code",
   "execution_count": 18,
   "metadata": {},
   "outputs": [
    {
     "data": {
      "text/plain": [
       "10d_spread_change                 0.021642\n",
       "5d_spread_change                  0.024881\n",
       "-1d_corr_act_price_def_price      0.025861\n",
       "-1d_corr_act_price_def_volume     0.027683\n",
       "10d_current_spread                0.028527\n",
       "-1d_corr_act_OI_spread            0.030461\n",
       "-1d_corr_act_OI_def_volume        0.031037\n",
       "-1d_corr_def_volume_def_OI        0.031203\n",
       "15d_spread_change                 0.031707\n",
       "10d_spread_std_divided_by_std     0.031714\n",
       "1d_z_diff_act_volume_act_OI       0.031962\n",
       "-1d_std                           0.032547\n",
       "-1d_corr_def_price_def_volume     0.032716\n",
       "-1d_corr_act_volume_def_volume    0.032866\n",
       "-1d_corr_act_volume_def_OI        0.033106\n",
       "-1d_corr_act_OI_def_OI            0.033186\n",
       "-1d_corr_act_price_act_OI         0.035796\n",
       "-1d_corr_def_OI_spread            0.036446\n",
       "10d_current_price                 0.040004\n",
       "1d_z_diff_act_price_def_OI        0.041141\n",
       "10d_def_volume_exp_mva            0.042340\n",
       "-1d_corr_def_price_def_OI         0.043055\n",
       "1d_z_diff_act_price_def_price     0.043973\n",
       "-1d_corr_act_price_def_OI         0.045274\n",
       "-1d_corr_def_volume_spread        0.045860\n",
       "20d_spread_change                 0.045869\n",
       "-1d_corr_def_price_spread         0.046182\n",
       "10d_act_price_exp_mva             0.052959\n",
       "dtype: float64"
      ]
     },
     "execution_count": 18,
     "metadata": {},
     "output_type": "execute_result"
    }
   ],
   "source": [
    "clf = RandomForestClassifier(n_estimators=100, max_features=1)\n",
    "clf = clf.fit(X, y)\n",
    "feature_importances = pd.Series(clf.feature_importances_, index=features.columns)\n",
    "feature_importances.sort_values()"
   ]
  },
  {
   "cell_type": "code",
   "execution_count": 19,
   "metadata": {},
   "outputs": [
    {
     "data": {
      "text/plain": [
       "1.0"
      ]
     },
     "execution_count": 19,
     "metadata": {},
     "output_type": "execute_result"
    }
   ],
   "source": [
    "clf.score(X, y)"
   ]
  },
  {
   "cell_type": "code",
   "execution_count": 20,
   "metadata": {},
   "outputs": [
    {
     "data": {
      "text/plain": [
       "array([ 1.,  1.,  1.,  1.,  1.,  1.,  1., -1.,  1., -1.,  1.,  1.,  1.,\n",
       "        1.,  1.,  1., -1., -1., -1., -1., -1., -1., -1.,  1.,  1.,  1.,\n",
       "        1., -1.,  1.,  1., -1.,  1., -1.,  1., -1.,  1.,  1., -1.,  1.])"
      ]
     },
     "execution_count": 20,
     "metadata": {},
     "output_type": "execute_result"
    }
   ],
   "source": [
    "clf.predict(X)"
   ]
  },
  {
   "cell_type": "code",
   "execution_count": 17,
   "metadata": {},
   "outputs": [
    {
     "data": {
      "text/plain": [
       "array([ 1.,  1.,  1.,  1.,  1.,  1.,  1., -1.,  1., -1.,  1.,  1.,  1.,\n",
       "        1.,  1.,  1., -1., -1., -1., -1., -1., -1., -1.,  1.,  1.,  1.,\n",
       "        1., -1.,  1.,  1., -1.,  1., -1.,  1., -1.,  1.,  1., -1.,  1.])"
      ]
     },
     "execution_count": 17,
     "metadata": {},
     "output_type": "execute_result"
    }
   ],
   "source": [
    "y"
   ]
  },
  {
   "cell_type": "code",
   "execution_count": null,
   "metadata": {},
   "outputs": [],
   "source": []
  }
 ],
 "metadata": {
  "kernelspec": {
   "display_name": "Python 3",
   "language": "python",
   "name": "python3"
  },
  "language_info": {
   "codemirror_mode": {
    "name": "ipython",
    "version": 3
   },
   "file_extension": ".py",
   "mimetype": "text/x-python",
   "name": "python",
   "nbconvert_exporter": "python",
   "pygments_lexer": "ipython3",
   "version": "3.6.8"
  }
 },
 "nbformat": 4,
 "nbformat_minor": 2
}
