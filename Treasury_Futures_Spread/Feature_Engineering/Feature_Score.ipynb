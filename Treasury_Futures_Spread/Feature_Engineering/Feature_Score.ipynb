{
 "cells": [
  {
   "cell_type": "code",
   "execution_count": 1,
   "metadata": {},
   "outputs": [],
   "source": [
    "import pandas as pd\n",
    "import numpy as np\n",
    "import sys\n",
    "import matplotlib.pyplot as plt"
   ]
  },
  {
   "cell_type": "code",
   "execution_count": 8,
   "metadata": {},
   "outputs": [],
   "source": [
    "lasso_reg = pd.read_csv('Lasso_Reg.csv', index_col=0)['Alpha = 0.001000'].fillna(0).abs()\n",
    "linear_reg = pd.read_csv('Linear_Reg.csv', index_col=0)\n",
    "logistic_reg_l1 = pd.read_csv('Logistic_Reg_l1.csv', index_col=0)\n",
    "logistic_reg_l2 = pd.read_csv('Logistic_Reg_l2.csv', index_col=0)\n",
    "svc = pd.read_csv('SVC.csv', index_col=0)\n",
    "svr = pd.read_csv('SVR.csv', index_col=0)"
   ]
  },
  {
   "cell_type": "code",
   "execution_count": 34,
   "metadata": {},
   "outputs": [],
   "source": [
    "feature_score = pd.concat([lasso_reg, linear_reg, logistic_reg_l2, logistic_reg_l1, svc, svr], axis=1)\n",
    "feature_score.columns = ['lasso_reg', 'linear_reg', 'logistic_reg_l2', 'logistic_reg_l1', 'svc', 'svr']"
   ]
  },
  {
   "cell_type": "code",
   "execution_count": 44,
   "metadata": {},
   "outputs": [
    {
     "ename": "SyntaxError",
     "evalue": "invalid syntax (<ipython-input-44-f26fd664aa83>, line 1)",
     "output_type": "error",
     "traceback": [
      "\u001b[1;36m  File \u001b[1;32m\"<ipython-input-44-f26fd664aa83>\"\u001b[1;36m, line \u001b[1;32m1\u001b[0m\n\u001b[1;33m    feature_score.loc[:, ['lasso_reg':'linear_reg', 'logistic_reg_l1':'svr']]\u001b[0m\n\u001b[1;37m                                     ^\u001b[0m\n\u001b[1;31mSyntaxError\u001b[0m\u001b[1;31m:\u001b[0m invalid syntax\n"
     ]
    }
   ],
   "source": [
    "feature_score.loc[:, ['lasso_reg':'linear_reg', 'logistic_reg_l1':'svr']]"
   ]
  },
  {
   "cell_type": "code",
   "execution_count": 35,
   "metadata": {},
   "outputs": [],
   "source": [
    "feature_score = feature_score / feature_score.sum()"
   ]
  },
  {
   "cell_type": "code",
   "execution_count": 40,
   "metadata": {},
   "outputs": [
    {
     "data": {
      "text/plain": [
       "feature\n",
       "10d_current_spread                0.009737\n",
       "10d_current_price                 0.010931\n",
       "10d_act_price_exp_mva             0.013648\n",
       "1d_z_diff_act_volume_act_OI       0.020527\n",
       "-1d_corr_act_price_act_OI         0.020754\n",
       "-1d_corr_act_OI_def_OI            0.021416\n",
       "-1d_corr_def_price_spread         0.021918\n",
       "-1d_corr_act_OI_spread            0.023753\n",
       "5d_spread_change                  0.024289\n",
       "-1d_corr_act_price_def_price      0.024456\n",
       "20d_spread_change                 0.024897\n",
       "-1d_corr_def_volume_def_OI        0.025394\n",
       "-1d_std                           0.027354\n",
       "-1d_corr_act_price_def_OI         0.028886\n",
       "10d_def_volume_exp_mva            0.029227\n",
       "-1d_corr_def_price_def_OI         0.033571\n",
       "-1d_corr_def_price_def_volume     0.035320\n",
       "-1d_corr_act_price_def_volume     0.038900\n",
       "1d_z_diff_act_price_def_price     0.044114\n",
       "10d_spread_std_divided_by_std     0.051348\n",
       "-1d_corr_act_OI_def_volume        0.052304\n",
       "15d_spread_change                 0.052559\n",
       "10d_spread_change                 0.054285\n",
       "-1d_corr_def_volume_spread        0.056740\n",
       "-1d_corr_def_OI_spread            0.057156\n",
       "-1d_corr_act_volume_def_OI        0.060500\n",
       "1d_z_diff_act_price_def_OI        0.065677\n",
       "-1d_corr_act_volume_def_volume    0.070340\n",
       "dtype: float64"
      ]
     },
     "execution_count": 40,
     "metadata": {},
     "output_type": "execute_result"
    }
   ],
   "source": [
    "feature_score.loc[:, :'logistic_reg_l2'].mean(1).sort_values()"
   ]
  },
  {
   "cell_type": "code",
   "execution_count": 41,
   "metadata": {},
   "outputs": [
    {
     "data": {
      "text/plain": [
       "feature\n",
       "10d_current_spread                0.001891\n",
       "-1d_corr_act_price_def_OI         0.003101\n",
       "-1d_corr_act_price_def_volume     0.006204\n",
       "-1d_corr_def_volume_def_OI        0.007615\n",
       "-1d_corr_act_OI_def_OI            0.009499\n",
       "10d_current_price                 0.009773\n",
       "-1d_std                           0.009844\n",
       "-1d_corr_def_price_def_volume     0.013712\n",
       "10d_act_price_exp_mva             0.017481\n",
       "-1d_corr_def_price_def_OI         0.022610\n",
       "-1d_corr_act_OI_spread            0.026226\n",
       "20d_spread_change                 0.028483\n",
       "1d_z_diff_act_volume_act_OI       0.028839\n",
       "-1d_corr_act_OI_def_volume        0.028976\n",
       "-1d_corr_def_price_spread         0.029380\n",
       "-1d_corr_def_volume_spread        0.032850\n",
       "5d_spread_change                  0.034190\n",
       "15d_spread_change                 0.035249\n",
       "-1d_corr_act_volume_def_OI        0.036192\n",
       "10d_spread_change                 0.037145\n",
       "-1d_corr_act_price_act_OI         0.046485\n",
       "-1d_corr_act_volume_def_volume    0.054768\n",
       "10d_spread_std_divided_by_std     0.063835\n",
       "-1d_corr_act_price_def_price      0.065307\n",
       "1d_z_diff_act_price_def_price     0.077105\n",
       "10d_def_volume_exp_mva            0.082278\n",
       "-1d_corr_def_OI_spread            0.092308\n",
       "1d_z_diff_act_price_def_OI        0.098654\n",
       "dtype: float64"
      ]
     },
     "execution_count": 41,
     "metadata": {},
     "output_type": "execute_result"
    }
   ],
   "source": [
    "feature_score.loc[:, 'logistic_reg_l1':].mean(1).sort_values()"
   ]
  },
  {
   "cell_type": "code",
   "execution_count": 42,
   "metadata": {},
   "outputs": [
    {
     "data": {
      "text/plain": [
       "feature\n",
       "10d_current_spread                0.005814\n",
       "10d_current_price                 0.010352\n",
       "-1d_corr_act_OI_def_OI            0.015458\n",
       "10d_act_price_exp_mva             0.015564\n",
       "-1d_corr_act_price_def_OI         0.015993\n",
       "-1d_corr_def_volume_def_OI        0.016504\n",
       "-1d_std                           0.018599\n",
       "-1d_corr_act_price_def_volume     0.022552\n",
       "-1d_corr_def_price_def_volume     0.024516\n",
       "1d_z_diff_act_volume_act_OI       0.024683\n",
       "-1d_corr_act_OI_spread            0.024990\n",
       "-1d_corr_def_price_spread         0.025649\n",
       "20d_spread_change                 0.026690\n",
       "-1d_corr_def_price_def_OI         0.028091\n",
       "5d_spread_change                  0.029240\n",
       "-1d_corr_act_price_act_OI         0.033619\n",
       "-1d_corr_act_OI_def_volume        0.040640\n",
       "15d_spread_change                 0.043904\n",
       "-1d_corr_def_volume_spread        0.044795\n",
       "-1d_corr_act_price_def_price      0.044881\n",
       "10d_spread_change                 0.045715\n",
       "-1d_corr_act_volume_def_OI        0.048346\n",
       "10d_def_volume_exp_mva            0.055753\n",
       "10d_spread_std_divided_by_std     0.057591\n",
       "1d_z_diff_act_price_def_price     0.060610\n",
       "-1d_corr_act_volume_def_volume    0.062554\n",
       "-1d_corr_def_OI_spread            0.074732\n",
       "1d_z_diff_act_price_def_OI        0.082165\n",
       "dtype: float64"
      ]
     },
     "execution_count": 42,
     "metadata": {},
     "output_type": "execute_result"
    }
   ],
   "source": [
    "feature_score.mean(1).sort_values()"
   ]
  },
  {
   "cell_type": "code",
   "execution_count": null,
   "metadata": {},
   "outputs": [],
   "source": []
  }
 ],
 "metadata": {
  "kernelspec": {
   "display_name": "Python 3",
   "language": "python",
   "name": "python3"
  },
  "language_info": {
   "codemirror_mode": {
    "name": "ipython",
    "version": 3
   },
   "file_extension": ".py",
   "mimetype": "text/x-python",
   "name": "python",
   "nbconvert_exporter": "python",
   "pygments_lexer": "ipython3",
   "version": "3.6.8"
  }
 },
 "nbformat": 4,
 "nbformat_minor": 2
}
