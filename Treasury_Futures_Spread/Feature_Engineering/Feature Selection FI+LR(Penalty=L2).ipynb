{
 "cells": [
  {
   "cell_type": "code",
   "execution_count": 1,
   "metadata": {},
   "outputs": [],
   "source": [
    "import pandas as pd\n",
    "import numpy as np\n",
    "import sys\n",
    "import matplotlib.pyplot as plt\n",
    "import math\n",
    "from sklearn.preprocessing import StandardScaler\n",
    "from sklearn.model_selection import KFold\n",
    "from sklearn.feature_selection import SelectFromModel\n",
    "from sklearn.linear_model import LogisticRegression\n",
    "from sklearn.metrics import f1_score\n",
    "import statsmodels.discrete.discrete_model as sm"
   ]
  },
  {
   "cell_type": "code",
   "execution_count": 2,
   "metadata": {},
   "outputs": [],
   "source": [
    "sys.path.insert(0, r'../../src')\n",
    "from function_cache import *"
   ]
  },
  {
   "cell_type": "code",
   "execution_count": 3,
   "metadata": {},
   "outputs": [],
   "source": [
    "T_0min = pd.read_csv('../../data/processed/price_before_close/T_0min.csv', index_col='Trading_Day', parse_dates=True)\n",
    "TF_0min = pd.read_csv('../../data/processed/price_before_close/TF_0min.csv', index_col='Trading_Day', parse_dates=True)\n",
    "T_5min = pd.read_csv('../../data/processed/price_before_close/T_5min.csv', index_col='Trading_Day', parse_dates=True)\n",
    "TF_5min = pd.read_csv('../../data/processed/price_before_close/TF_5min.csv', index_col='Trading_Day', parse_dates=True)\n",
    "T_10min = pd.read_csv('../../data/processed/price_before_close/T_10min.csv', index_col='Trading_Day', parse_dates=True)\n",
    "TF_10min = pd.read_csv('../../data/processed/price_before_close/TF_10min.csv', index_col='Trading_Day', parse_dates=True)\n",
    "T_15min = pd.read_csv('../../data/processed/price_before_close/T_15min.csv', index_col='Trading_Day', parse_dates=True)\n",
    "TF_15min = pd.read_csv('../../data/processed/price_before_close/TF_15min.csv', index_col='Trading_Day', parse_dates=True)"
   ]
  },
  {
   "cell_type": "code",
   "execution_count": 4,
   "metadata": {},
   "outputs": [],
   "source": [
    "T_features = pd.read_csv('../../data/processed/candidate_features/T_features.csv', index_col=0)\n",
    "TF_features = pd.read_csv('../../data/processed/candidate_features/TF_features.csv', index_col=0)\n",
    "T_spread_change = pd.read_csv('../../data/processed/different_ys/T_spread_change.csv', index_col=0)\n",
    "TF_spread_change = pd.read_csv('../../data/processed/different_ys/TF_spread_change.csv', index_col=0)"
   ]
  },
  {
   "cell_type": "code",
   "execution_count": 5,
   "metadata": {},
   "outputs": [],
   "source": [
    "features = pd.concat([T_features, TF_features])\n",
    "spread_change = pd.concat([T_spread_change, TF_spread_change])"
   ]
  },
  {
   "cell_type": "code",
   "execution_count": 6,
   "metadata": {},
   "outputs": [],
   "source": [
    "spread_sign = np.sign(spread_change)\n",
    "\n",
    "X = features.values\n",
    "y = spread_sign['0min_0min'].values\n",
    "y[y == -1] = 0\n",
    "\n",
    "scaler = StandardScaler()\n",
    "X = scaler.fit_transform(X)"
   ]
  },
  {
   "cell_type": "code",
   "execution_count": 7,
   "metadata": {},
   "outputs": [
    {
     "data": {
      "text/plain": [
       "[18, 25]"
      ]
     },
     "execution_count": 7,
     "metadata": {},
     "output_type": "execute_result"
    }
   ],
   "source": [
    "top_feat = ['-1d_corr_def_OI_spread', '10d_def_volume_exp_mva']#, '-1d_corr_def_volume_spread', '1d_z_diff_act_price_def_price', '20d_spread_change']\n",
    "feat_idx = [list(features.columns).index(x) for x in top_feat]\n",
    "feat_idx"
   ]
  },
  {
   "cell_type": "code",
   "execution_count": 8,
   "metadata": {},
   "outputs": [
    {
     "name": "stderr",
     "output_type": "stream",
     "text": [
      "D:\\anaconda\\lib\\site-packages\\sklearn\\linear_model\\logistic.py:433: FutureWarning: Default solver will be changed to 'lbfgs' in 0.22. Specify a solver to silence this warning.\n",
      "  FutureWarning)\n"
     ]
    },
    {
     "data": {
      "text/plain": [
       "0.9230769230769231"
      ]
     },
     "execution_count": 8,
     "metadata": {},
     "output_type": "execute_result"
    }
   ],
   "source": [
    "clf = LogisticRegression(penalty='l2')\n",
    "clf.fit(X, y)\n",
    "clf.score(X, y)"
   ]
  },
  {
   "cell_type": "code",
   "execution_count": 9,
   "metadata": {
    "scrolled": true
   },
   "outputs": [
    {
     "data": {
      "text/plain": [
       "array([[0.59172404, 0.40827596],\n",
       "       [0.05694669, 0.94305331],\n",
       "       [0.06054197, 0.93945803],\n",
       "       [0.1035494 , 0.8964506 ],\n",
       "       [0.23604287, 0.76395713],\n",
       "       [0.03721279, 0.96278721],\n",
       "       [0.1471091 , 0.8528909 ],\n",
       "       [0.89350043, 0.10649957],\n",
       "       [0.43921623, 0.56078377],\n",
       "       [0.61491158, 0.38508842],\n",
       "       [0.14452277, 0.85547723],\n",
       "       [0.17990077, 0.82009923],\n",
       "       [0.10471707, 0.89528293],\n",
       "       [0.11243085, 0.88756915],\n",
       "       [0.14552053, 0.85447947],\n",
       "       [0.06076669, 0.93923331],\n",
       "       [0.94141037, 0.05858963],\n",
       "       [0.81592506, 0.18407494],\n",
       "       [0.90858031, 0.09141969],\n",
       "       [0.94497216, 0.05502784],\n",
       "       [0.64589729, 0.35410271],\n",
       "       [0.84990185, 0.15009815],\n",
       "       [0.38624879, 0.61375121],\n",
       "       [0.15055584, 0.84944416],\n",
       "       [0.07700369, 0.92299631],\n",
       "       [0.02208508, 0.97791492],\n",
       "       [0.0574811 , 0.9425189 ],\n",
       "       [0.82431705, 0.17568295],\n",
       "       [0.13180551, 0.86819449],\n",
       "       [0.29866916, 0.70133084],\n",
       "       [0.78581555, 0.21418445],\n",
       "       [0.23136474, 0.76863526],\n",
       "       [0.98647504, 0.01352496],\n",
       "       [0.05310829, 0.94689171],\n",
       "       [0.68465546, 0.31534454],\n",
       "       [0.42681115, 0.57318885],\n",
       "       [0.15676155, 0.84323845],\n",
       "       [0.17407543, 0.82592457],\n",
       "       [0.19831429, 0.80168571]])"
      ]
     },
     "execution_count": 9,
     "metadata": {},
     "output_type": "execute_result"
    }
   ],
   "source": [
    "clf.predict_proba(X)"
   ]
  },
  {
   "cell_type": "code",
   "execution_count": 10,
   "metadata": {
    "scrolled": false
   },
   "outputs": [
    {
     "data": {
      "text/plain": [
       "5d_spread_change                  0.471027\n",
       "10d_spread_change                 0.476790\n",
       "15d_spread_change                 0.034541\n",
       "20d_spread_change                 0.664142\n",
       "10d_act_price_exp_mva             0.267740\n",
       "-1d_corr_act_price_def_OI         0.063464\n",
       "-1d_corr_def_price_def_OI         0.011010\n",
       "10d_spread_std_divided_by_std     0.598247\n",
       "10d_current_price                 0.275725\n",
       "1d_z_diff_act_price_def_price     0.729329\n",
       "-1d_corr_act_price_def_volume     0.174968\n",
       "-1d_corr_def_price_def_volume     0.167137\n",
       "10d_current_spread                0.006676\n",
       "-1d_std                           0.256544\n",
       "-1d_corr_act_price_def_price      0.713832\n",
       "-1d_corr_act_OI_def_volume        0.232550\n",
       "-1d_corr_act_OI_def_OI            0.059327\n",
       "-1d_corr_def_volume_def_OI        0.001227\n",
       "-1d_corr_def_OI_spread            0.561008\n",
       "-1d_corr_def_volume_spread        0.195247\n",
       "1d_z_diff_act_price_def_OI        0.729619\n",
       "-1d_corr_act_volume_def_volume    0.620428\n",
       "-1d_corr_act_volume_def_OI        0.198545\n",
       "-1d_corr_act_price_act_OI         0.588018\n",
       "1d_z_diff_act_volume_act_OI       0.443731\n",
       "10d_def_volume_exp_mva            0.776772\n",
       "-1d_corr_act_OI_spread            0.298057\n",
       "-1d_corr_def_price_spread         0.366452\n",
       "dtype: float64"
      ]
     },
     "execution_count": 10,
     "metadata": {},
     "output_type": "execute_result"
    }
   ],
   "source": [
    "FI_sr = pd.Series(np.abs(clf.coef_[0]), features.columns)\n",
    "FI_sr"
   ]
  },
  {
   "cell_type": "code",
   "execution_count": 11,
   "metadata": {},
   "outputs": [],
   "source": [
    "FI_sr.to_csv('Logistic_Reg_L2.csv', header=True)"
   ]
  },
  {
   "cell_type": "code",
   "execution_count": null,
   "metadata": {},
   "outputs": [],
   "source": []
  }
 ],
 "metadata": {
  "kernelspec": {
   "display_name": "Python 3",
   "language": "python",
   "name": "python3"
  },
  "language_info": {
   "codemirror_mode": {
    "name": "ipython",
    "version": 3
   },
   "file_extension": ".py",
   "mimetype": "text/x-python",
   "name": "python",
   "nbconvert_exporter": "python",
   "pygments_lexer": "ipython3",
   "version": "3.6.6"
  }
 },
 "nbformat": 4,
 "nbformat_minor": 2
}
