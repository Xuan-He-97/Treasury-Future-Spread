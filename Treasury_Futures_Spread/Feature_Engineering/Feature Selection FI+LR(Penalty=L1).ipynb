{
 "cells": [
  {
   "cell_type": "code",
   "execution_count": 1,
   "metadata": {},
   "outputs": [],
   "source": [
    "import pandas as pd\n",
    "import numpy as np\n",
    "import sys\n",
    "import matplotlib.pyplot as plt\n",
    "import math\n",
    "from sklearn.preprocessing import StandardScaler\n",
    "from sklearn.model_selection import KFold\n",
    "from sklearn.feature_selection import SelectFromModel\n",
    "from sklearn.linear_model import LogisticRegression\n",
    "from sklearn.metrics import f1_score\n",
    "import statsmodels.discrete.discrete_model as sm"
   ]
  },
  {
   "cell_type": "code",
   "execution_count": 2,
   "metadata": {},
   "outputs": [],
   "source": [
    "sys.path.insert(0, r'../../src')\n",
    "from function_cache import *"
   ]
  },
  {
   "cell_type": "code",
   "execution_count": 3,
   "metadata": {},
   "outputs": [],
   "source": [
    "T_0min = pd.read_csv('../../data/processed/price_before_close/T_0min.csv', index_col='Trading_Day', parse_dates=True)\n",
    "TF_0min = pd.read_csv('../../data/processed/price_before_close/TF_0min.csv', index_col='Trading_Day', parse_dates=True)\n",
    "T_5min = pd.read_csv('../../data/processed/price_before_close/T_5min.csv', index_col='Trading_Day', parse_dates=True)\n",
    "TF_5min = pd.read_csv('../../data/processed/price_before_close/TF_5min.csv', index_col='Trading_Day', parse_dates=True)\n",
    "T_10min = pd.read_csv('../../data/processed/price_before_close/T_10min.csv', index_col='Trading_Day', parse_dates=True)\n",
    "TF_10min = pd.read_csv('../../data/processed/price_before_close/TF_10min.csv', index_col='Trading_Day', parse_dates=True)\n",
    "T_15min = pd.read_csv('../../data/processed/price_before_close/T_15min.csv', index_col='Trading_Day', parse_dates=True)\n",
    "TF_15min = pd.read_csv('../../data/processed/price_before_close/TF_15min.csv', index_col='Trading_Day', parse_dates=True)"
   ]
  },
  {
   "cell_type": "code",
   "execution_count": 4,
   "metadata": {},
   "outputs": [],
   "source": [
    "T_features = pd.read_csv('../../data/processed/candidate_features/T_features.csv', index_col=0)\n",
    "TF_features = pd.read_csv('../../data/processed/candidate_features/TF_features.csv', index_col=0)\n",
    "T_spread_change = pd.read_csv('../../data/processed/different_ys/T_spread_change.csv', index_col=0)\n",
    "TF_spread_change = pd.read_csv('../../data/processed/different_ys/TF_spread_change.csv', index_col=0)"
   ]
  },
  {
   "cell_type": "code",
   "execution_count": 5,
   "metadata": {},
   "outputs": [],
   "source": [
    "features = pd.concat([T_features, TF_features])\n",
    "spread_change = pd.concat([T_spread_change, TF_spread_change])"
   ]
  },
  {
   "cell_type": "code",
   "execution_count": 6,
   "metadata": {},
   "outputs": [],
   "source": [
    "spread_sign = np.sign(spread_change)\n",
    "\n",
    "X = features.values\n",
    "y = spread_sign['0min_0min'].values\n",
    "y[y == -1] = 0\n",
    "\n",
    "scaler = StandardScaler()\n",
    "X = scaler.fit_transform(X)"
   ]
  },
  {
   "cell_type": "code",
   "execution_count": 7,
   "metadata": {},
   "outputs": [
    {
     "data": {
      "text/plain": [
       "[18, 25]"
      ]
     },
     "execution_count": 7,
     "metadata": {},
     "output_type": "execute_result"
    }
   ],
   "source": [
    "top_feat = ['-1d_corr_def_OI_spread', '10d_def_volume_exp_mva']#, '-1d_corr_def_volume_spread', '1d_z_diff_act_price_def_price', '20d_spread_change']\n",
    "feat_idx = [list(features.columns).index(x) for x in top_feat]\n",
    "feat_idx"
   ]
  },
  {
   "cell_type": "code",
   "execution_count": 8,
   "metadata": {},
   "outputs": [
    {
     "name": "stderr",
     "output_type": "stream",
     "text": [
      "D:\\anaconda\\lib\\site-packages\\sklearn\\linear_model\\logistic.py:433: FutureWarning: Default solver will be changed to 'lbfgs' in 0.22. Specify a solver to silence this warning.\n",
      "  FutureWarning)\n"
     ]
    },
    {
     "data": {
      "text/plain": [
       "0.8974358974358975"
      ]
     },
     "execution_count": 8,
     "metadata": {},
     "output_type": "execute_result"
    }
   ],
   "source": [
    "clf = LogisticRegression(penalty='l1')\n",
    "clf.fit(X, y)\n",
    "clf.score(X, y)"
   ]
  },
  {
   "cell_type": "code",
   "execution_count": 33,
   "metadata": {
    "scrolled": true
   },
   "outputs": [],
   "source": [
    "pred = clf.predict_proba(X)"
   ]
  },
  {
   "cell_type": "code",
   "execution_count": 24,
   "metadata": {},
   "outputs": [],
   "source": [
    "pred = clf.predict(X)"
   ]
  },
  {
   "cell_type": "code",
   "execution_count": 10,
   "metadata": {
    "scrolled": false
   },
   "outputs": [
    {
     "data": {
      "text/plain": [
       "5d_spread_change                  0.192002\n",
       "10d_spread_change                 0.000000\n",
       "15d_spread_change                 0.000000\n",
       "20d_spread_change                 0.000000\n",
       "10d_act_price_exp_mva             0.000000\n",
       "-1d_corr_act_price_def_OI         0.000000\n",
       "-1d_corr_def_price_def_OI         0.000000\n",
       "10d_spread_std_divided_by_std     0.303499\n",
       "10d_current_price                 0.000000\n",
       "1d_z_diff_act_price_def_price     0.618395\n",
       "-1d_corr_act_price_def_volume     0.000000\n",
       "-1d_corr_def_price_def_volume     0.000000\n",
       "10d_current_spread                0.000000\n",
       "-1d_std                           0.000000\n",
       "-1d_corr_act_price_def_price      0.565512\n",
       "-1d_corr_act_OI_def_volume        0.000000\n",
       "-1d_corr_act_OI_def_OI            0.000000\n",
       "-1d_corr_def_volume_def_OI        0.000000\n",
       "-1d_corr_def_OI_spread            0.907547\n",
       "-1d_corr_def_volume_spread        0.000000\n",
       "1d_z_diff_act_price_def_OI        0.755141\n",
       "-1d_corr_act_volume_def_volume    0.229390\n",
       "-1d_corr_act_volume_def_OI        0.000000\n",
       "-1d_corr_act_price_act_OI         0.422846\n",
       "1d_z_diff_act_volume_act_OI       0.119407\n",
       "10d_def_volume_exp_mva            0.836424\n",
       "-1d_corr_act_OI_spread            0.078726\n",
       "-1d_corr_def_price_spread         0.243619\n",
       "dtype: float64"
      ]
     },
     "execution_count": 10,
     "metadata": {},
     "output_type": "execute_result"
    }
   ],
   "source": [
    "FI_sr = pd.Series(np.abs(clf.coef_[0]), features.columns)\n",
    "FI_sr"
   ]
  },
  {
   "cell_type": "code",
   "execution_count": 28,
   "metadata": {},
   "outputs": [],
   "source": [
    "FI_sr.to_csv('Logistic_Reg_L1.csv', header=True)"
   ]
  },
  {
   "cell_type": "code",
   "execution_count": 31,
   "metadata": {},
   "outputs": [],
   "source": [
    "from scipy.stats import mode"
   ]
  },
  {
   "cell_type": "code",
   "execution_count": 36,
   "metadata": {},
   "outputs": [
    {
     "data": {
      "text/plain": [
       "array([1, 1, 1, 1, 1, 1, 1, 0, 0, 1, 1, 1, 1, 1, 1, 1, 0, 0, 0, 0, 0, 0,\n",
       "       1, 1, 1, 1, 1, 0, 1, 1, 0, 1, 0, 1, 0, 1, 1, 1, 1], dtype=int64)"
      ]
     },
     "execution_count": 36,
     "metadata": {},
     "output_type": "execute_result"
    }
   ],
   "source": [
    "np.argmax(pred, 1)"
   ]
  },
  {
   "cell_type": "code",
   "execution_count": 37,
   "metadata": {},
   "outputs": [],
   "source": [
    "def ensemble_vote(pred_ensemble, probability=True):\n",
    "    if probability:\n",
    "        pred_tot = np.array(pred_ensemble).sum(0)\n",
    "        pred_tot = np.argmax(pred_tot, 1)\n",
    "    else:\n",
    "        pred_tot = mode(np.array(pred_ensemble)).mode\n",
    "        \n",
    "    return pred_tot"
   ]
  },
  {
   "cell_type": "code",
   "execution_count": null,
   "metadata": {},
   "outputs": [],
   "source": []
  }
 ],
 "metadata": {
  "kernelspec": {
   "display_name": "Python 3",
   "language": "python",
   "name": "python3"
  },
  "language_info": {
   "codemirror_mode": {
    "name": "ipython",
    "version": 3
   },
   "file_extension": ".py",
   "mimetype": "text/x-python",
   "name": "python",
   "nbconvert_exporter": "python",
   "pygments_lexer": "ipython3",
   "version": "3.6.6"
  }
 },
 "nbformat": 4,
 "nbformat_minor": 2
}
