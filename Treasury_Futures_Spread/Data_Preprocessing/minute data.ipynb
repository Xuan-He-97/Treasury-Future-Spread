{
 "cells": [
  {
   "cell_type": "code",
   "execution_count": 2,
   "metadata": {},
   "outputs": [],
   "source": [
    "import numpy as np\n",
    "import pandas as pd\n",
    "import matplotlib.pyplot as plt\n",
    "import matplotlib.lines as lines\n",
    "import seaborn as sns\n",
    "sns.set()\n",
    "import os\n",
    "import glob\n",
    "from tqdm import tqdm\n",
    "import time\n",
    "import math"
   ]
  },
  {
   "cell_type": "code",
   "execution_count": 3,
   "metadata": {},
   "outputs": [],
   "source": [
    "data_path = r'..\\data\\raw\\minute_data'"
   ]
  },
  {
   "cell_type": "code",
   "execution_count": 4,
   "metadata": {},
   "outputs": [],
   "source": [
    "symbol_list = os.listdir(data_path)"
   ]
  },
  {
   "cell_type": "code",
   "execution_count": 13,
   "metadata": {},
   "outputs": [
    {
     "name": "stderr",
     "output_type": "stream",
     "text": [
      "  0%|                                                                                           | 0/19 [00:00<?, ?it/s]D:\\anaconda\\lib\\site-packages\\ipykernel_launcher.py:19: FutureWarning: Sorting because non-concatenation axis is not aligned. A future version\n",
      "of pandas will change to not sort by default.\n",
      "\n",
      "To accept the future behavior, pass 'sort=False'.\n",
      "\n",
      "To retain the current behavior and silence the warning, pass 'sort=True'.\n",
      "\n",
      "100%|██████████████████████████████████████████████████████████████████████████████████| 19/19 [00:00<00:00, 20.66it/s]\n",
      "100%|██████████████████████████████████████████████████████████████████████████████████| 26/26 [00:01<00:00, 19.61it/s]\n",
      "100%|████████████████████████████████████████████████████████████████████████████████████| 6/6 [00:00<00:00, 27.60it/s]\n"
     ]
    }
   ],
   "source": [
    "time_list = [0, 1, 2, 3, 4, 5]\n",
    "\n",
    "for symbol in symbol_list:\n",
    "    \n",
    "    contract_list = os.listdir(data_path + '/' + symbol)\n",
    "    last_min_dfs = [pd.DataFrame()]*len(time_list)\n",
    "    \n",
    "    for contract in tqdm(contract_list):\n",
    "        \n",
    "        df = pd.read_csv(data_path + '/' + symbol + '/' + contract, index_col='Trading_Day', \n",
    "                         parse_dates=True, usecols=['Contract_Code', 'Close', 'Trading_Day'])\n",
    "        \n",
    "        contract_code = df['Contract_Code'].values[0]\n",
    "             \n",
    "        for i in time_list:\n",
    "            \n",
    "            data = df['Close'].groupby(df.index.date).nth(-i-1)\n",
    "            data.name = contract_code\n",
    "            last_min_dfs[i] = pd.concat([last_min_dfs[i], data], axis=1)\n",
    "    \n",
    "    for i in range(len(time_list)):\n",
    "        last_min_dfs[i].name = str(i*5)+'min'\n",
    "        last_min_dfs[i].to_csv('../data/interim/raw_features/'+str(symbol)+'/'+str(i*5)+'min_before_close.csv')"
   ]
  },
  {
   "cell_type": "code",
   "execution_count": null,
   "metadata": {},
   "outputs": [],
   "source": []
  }
 ],
 "metadata": {
  "kernelspec": {
   "display_name": "Python 3",
   "language": "python",
   "name": "python3"
  },
  "language_info": {
   "codemirror_mode": {
    "name": "ipython",
    "version": 3
   },
   "file_extension": ".py",
   "mimetype": "text/x-python",
   "name": "python",
   "nbconvert_exporter": "python",
   "pygments_lexer": "ipython3",
   "version": "3.6.8"
  }
 },
 "nbformat": 4,
 "nbformat_minor": 2
}
